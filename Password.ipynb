{
 "cells": [
  {
   "cell_type": "code",
   "execution_count": 3,
   "metadata": {},
   "outputs": [
    {
     "name": "stdout",
     "output_type": "stream",
     "text": [
      "12sdA@83,a F1#,2w3E*%dg,2We3345, 1234567\n",
      "12sdA@83 Success\n",
      "a F1# Failure Password must be at least 6 characters long\n",
      "2w3E*%dg  Failure Password cannot contain %!)(\n",
      "2We3345 Failure Password must contain at least one letter from [*$_#=@]\n",
      " 1234567 Failure Password must contain at least one letter from [a-z]\n"
     ]
    }
   ],
   "source": [
    "import re\n",
    "passwords = input().split(',')\n",
    "for password in passwords:\n",
    "    flag = 0\n",
    "    while True:   \n",
    "        if (len(password)<6) : \n",
    "            flag = -1\n",
    "            print(password,\"Failure Password must be at least 6 characters long\")\n",
    "            break\n",
    "        elif len(password)>12:\n",
    "            flag = -1\n",
    "            print(password,\"Failure Password must be at max 12 characters long\")\n",
    "            break\n",
    "        elif not re.search(\"[a-z]\", password): \n",
    "            flag = -1\n",
    "            print(password,\"Failure Password must contain at least one letter from [a-z]\")\n",
    "            break\n",
    "        elif not re.search(\"[A-Z]\", password):\n",
    "            print(password,\"Failure Password must contain at least one letter from [A-Z]\")\n",
    "            flag = -1\n",
    "            break\n",
    "        elif not re.search(\"[0-9]\", password):\n",
    "            print(password,\"Failure Password must contain at least one letter from [0-9]\")\n",
    "            flag = -1\n",
    "            break\n",
    "        elif not re.search(\"[*$_#=@]\", password):\n",
    "            print(password,\"Failure Password must contain at least one letter from [*$_#=@]\")\n",
    "            flag = -1\n",
    "            break\n",
    "        elif re.search(\"[%!)(]\", password):\n",
    "            print(password,\" Failure Password cannot contain %!)(\")\n",
    "            flag = -1\n",
    "            break\n",
    "        else: \n",
    "            flag = 0\n",
    "            print(password,\"Success\") \n",
    "            break"
   ]
  }
 ],
 "metadata": {
  "kernelspec": {
   "display_name": "Python 3",
   "language": "python",
   "name": "python3"
  },
  "language_info": {
   "codemirror_mode": {
    "name": "ipython",
    "version": 3
   },
   "file_extension": ".py",
   "mimetype": "text/x-python",
   "name": "python",
   "nbconvert_exporter": "python",
   "pygments_lexer": "ipython3",
   "version": "3.5.2"
  }
 },
 "nbformat": 4,
 "nbformat_minor": 2
}
